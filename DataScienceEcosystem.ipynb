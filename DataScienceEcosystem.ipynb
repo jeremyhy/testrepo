{
 "cells": [
  {
   "cell_type": "markdown",
   "id": "c4402a6a-85c4-46c8-a5fa-e7e0ad9b186e",
   "metadata": {},
   "source": [
    "# Data Science Tools and Ecosystem"
   ]
  },
  {
   "cell_type": "markdown",
   "id": "f03e90bd-eb27-41a4-84ef-29f934a1ca00",
   "metadata": {},
   "source": [
    "In this notebook, Data Science Tools and Ecosystem are summarized."
   ]
  },
  {
   "cell_type": "markdown",
   "id": "9c8eeb43-de0c-41ba-b3fe-ea28f8b92257",
   "metadata": {},
   "source": [
    "**Objectives**:\n",
    "- List popular languages for Data Science\n",
    "- List popular libraries for Data Science\n",
    "- List popular tools for Data Science"
   ]
  },
  {
   "cell_type": "markdown",
   "id": "40718edb-1b13-4f22-9933-4d40684f53b0",
   "metadata": {},
   "source": [
    "Some of the popular languages that Data Scientists use are:\n",
    "1. python\n",
    "2. R\n",
    "3. SQL"
   ]
  },
  {
   "cell_type": "markdown",
   "id": "aeee22b9-99dd-4837-91a0-9b777f6f4635",
   "metadata": {},
   "source": [
    "Some of the commonly used libraries used by Data Scientists include:\n",
    "1. NumPy\n",
    "2. Pandas\n",
    "3. SciPy"
   ]
  },
  {
   "cell_type": "markdown",
   "id": "35df7af2-1a95-4464-bcd1-7951d2535385",
   "metadata": {},
   "source": [
    "|Data Science Tools|\n",
    "------\n",
    "|Jupyter Notebooks|\n",
    "|R Studio|\n",
    "|Anaconda|"
   ]
  },
  {
   "cell_type": "markdown",
   "id": "bd74a9c4-52c4-4831-a69b-1211504ffd6a",
   "metadata": {},
   "source": [
    "### Below are a few examples of evaluating arithmetic expressions in Python"
   ]
  },
  {
   "cell_type": "code",
   "execution_count": 28,
   "id": "4284ac33-5aa2-4c96-b038-794c3ab49042",
   "metadata": {},
   "outputs": [
    {
     "data": {
      "text/plain": [
       "17"
      ]
     },
     "execution_count": 28,
     "metadata": {},
     "output_type": "execute_result"
    }
   ],
   "source": [
    "#This a simple arithmetic expression to mutiply then add integers\n",
    "(3*4)+5"
   ]
  },
  {
   "cell_type": "code",
   "execution_count": 30,
   "id": "7c81451d-6bd2-4de2-8c1c-1b9bcbec721a",
   "metadata": {},
   "outputs": [
    {
     "data": {
      "text/plain": [
       "3.3333333333333335"
      ]
     },
     "execution_count": 30,
     "metadata": {},
     "output_type": "execute_result"
    }
   ],
   "source": [
    "#This will convert 200 minutes to hours by diving by 60\n",
    "\n",
    "200/60"
   ]
  },
  {
   "cell_type": "markdown",
   "id": "dbf1dcf1-ef89-4a3e-8243-69c58e146c58",
   "metadata": {},
   "source": [
    "## Author \n",
    "Jeremy Yang"
   ]
  },
  {
   "cell_type": "code",
   "execution_count": null,
   "id": "daa13efc-48a2-4ae6-9456-f2a5a41a1a3c",
   "metadata": {},
   "outputs": [],
   "source": []
  }
 ],
 "metadata": {
  "kernelspec": {
   "display_name": "Python 3 (ipykernel)",
   "language": "python",
   "name": "python3"
  },
  "language_info": {
   "codemirror_mode": {
    "name": "ipython",
    "version": 3
   },
   "file_extension": ".py",
   "mimetype": "text/x-python",
   "name": "python",
   "nbconvert_exporter": "python",
   "pygments_lexer": "ipython3",
   "version": "3.12.4"
  }
 },
 "nbformat": 4,
 "nbformat_minor": 5
}
